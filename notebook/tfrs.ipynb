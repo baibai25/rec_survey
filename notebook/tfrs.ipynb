{
 "cells": [
  {
   "cell_type": "code",
   "execution_count": null,
   "metadata": {},
   "outputs": [],
   "source": [
    "# https://blog.tensorflow.org/2020/09/introducing-tensorflow-recommenders.html"
   ]
  },
  {
   "cell_type": "code",
   "execution_count": 1,
   "metadata": {},
   "outputs": [
    {
     "name": "stderr",
     "output_type": "stream",
     "text": [
      "2023-02-23 16:12:59.424467: I tensorflow/core/platform/cpu_feature_guard.cc:193] This TensorFlow binary is optimized with oneAPI Deep Neural Network Library (oneDNN) to use the following CPU instructions in performance-critical operations:  AVX2 FMA\n",
      "To enable them in other operations, rebuild TensorFlow with the appropriate compiler flags.\n",
      "2023-02-23 16:13:00.044686: W tensorflow/compiler/xla/stream_executor/platform/default/dso_loader.cc:64] Could not load dynamic library 'libnvinfer.so.7'; dlerror: libnvinfer.so.7: cannot open shared object file: No such file or directory; LD_LIBRARY_PATH: /usr/local/cuda/lib64:\n",
      "2023-02-23 16:13:00.044749: W tensorflow/compiler/xla/stream_executor/platform/default/dso_loader.cc:64] Could not load dynamic library 'libnvinfer_plugin.so.7'; dlerror: libnvinfer_plugin.so.7: cannot open shared object file: No such file or directory; LD_LIBRARY_PATH: /usr/local/cuda/lib64:\n",
      "2023-02-23 16:13:00.044755: W tensorflow/compiler/tf2tensorrt/utils/py_utils.cc:38] TF-TRT Warning: Cannot dlopen some TensorRT libraries. If you would like to use Nvidia GPU with TensorRT, please make sure the missing libraries mentioned above are installed properly.\n",
      "/home/yata/Desktop/rec_survey/.venv/lib/python3.8/site-packages/tqdm/auto.py:22: TqdmWarning: IProgress not found. Please update jupyter and ipywidgets. See https://ipywidgets.readthedocs.io/en/stable/user_install.html\n",
      "  from .autonotebook import tqdm as notebook_tqdm\n"
     ]
    }
   ],
   "source": [
    "import pandas as pd\n",
    "\n",
    "from typing import Dict, Text\n",
    "\n",
    "import numpy as np\n",
    "import tensorflow as tf\n",
    "\n",
    "import tensorflow_recommenders as tfrs\n",
    "import tensorflow_datasets as tfds"
   ]
  },
  {
   "cell_type": "code",
   "execution_count": 2,
   "metadata": {},
   "outputs": [],
   "source": [
    "df = pd.read_pickle(\"../data/data.pkl\")\n",
    "df = df[[\"user_id\", \"name\", \"user_rating\"]]"
   ]
  },
  {
   "cell_type": "code",
   "execution_count": 3,
   "metadata": {},
   "outputs": [
    {
     "name": "stdout",
     "output_type": "stream",
     "text": [
      "73517\n"
     ]
    }
   ],
   "source": [
    "test_id = df[\"user_id\"].max() + 1\n",
    "print(test_id)\n",
    "\n",
    "test_df = [\n",
    "    [test_id, \"Angel Beats!\", 10],\n",
    "    [test_id, \"Ookami to Koushinryou\", 10],\n",
    "    [test_id, \"Shinsekai yori\", 8],\n",
    "    [test_id, \"Seikimatsu Occult Gakuin\", 6],\n",
    "    [test_id, \"Futari wa Precure\", 8],\n",
    "    [test_id, \"Shugo Chara!\", 8],\n",
    "    [test_id, \"Uchuu Senkan Yamato 2199\", 9],\n",
    "]\n",
    "\n",
    "test_df = pd.DataFrame(test_df, columns=df.columns)"
   ]
  },
  {
   "cell_type": "code",
   "execution_count": 4,
   "metadata": {},
   "outputs": [],
   "source": [
    "# reduce data due to memory limitation\n",
    "sample_data = df.sample(10000, random_state=42)\n",
    "sample_data = pd.concat([sample_data, test_df], axis=0)\n",
    "sample_data[\"user_id\"] = sample_data[\"user_id\"].astype(str)"
   ]
  },
  {
   "cell_type": "code",
   "execution_count": 5,
   "metadata": {},
   "outputs": [
    {
     "data": {
      "text/html": [
       "<div>\n",
       "<style scoped>\n",
       "    .dataframe tbody tr th:only-of-type {\n",
       "        vertical-align: middle;\n",
       "    }\n",
       "\n",
       "    .dataframe tbody tr th {\n",
       "        vertical-align: top;\n",
       "    }\n",
       "\n",
       "    .dataframe thead th {\n",
       "        text-align: right;\n",
       "    }\n",
       "</style>\n",
       "<table border=\"1\" class=\"dataframe\">\n",
       "  <thead>\n",
       "    <tr style=\"text-align: right;\">\n",
       "      <th></th>\n",
       "      <th>user_id</th>\n",
       "      <th>name</th>\n",
       "      <th>user_rating</th>\n",
       "    </tr>\n",
       "  </thead>\n",
       "  <tbody>\n",
       "    <tr>\n",
       "      <th>3669635</th>\n",
       "      <td>562</td>\n",
       "      <td>Ranpo Kitan: Game of Laplace</td>\n",
       "      <td>6</td>\n",
       "    </tr>\n",
       "    <tr>\n",
       "      <th>2412642</th>\n",
       "      <td>42684</td>\n",
       "      <td>Death Note Rewrite</td>\n",
       "      <td>7</td>\n",
       "    </tr>\n",
       "    <tr>\n",
       "      <th>3014556</th>\n",
       "      <td>53767</td>\n",
       "      <td>Kuroshitsuji II</td>\n",
       "      <td>7</td>\n",
       "    </tr>\n",
       "    <tr>\n",
       "      <th>732241</th>\n",
       "      <td>27381</td>\n",
       "      <td>DearS</td>\n",
       "      <td>7</td>\n",
       "    </tr>\n",
       "    <tr>\n",
       "      <th>1937180</th>\n",
       "      <td>57309</td>\n",
       "      <td>Yuusha ni Narenakatta Ore wa Shibushibu Shuush...</td>\n",
       "      <td>5</td>\n",
       "    </tr>\n",
       "  </tbody>\n",
       "</table>\n",
       "</div>"
      ],
      "text/plain": [
       "        user_id                                               name  \\\n",
       "3669635     562                       Ranpo Kitan: Game of Laplace   \n",
       "2412642   42684                                 Death Note Rewrite   \n",
       "3014556   53767                                    Kuroshitsuji II   \n",
       "732241    27381                                              DearS   \n",
       "1937180   57309  Yuusha ni Narenakatta Ore wa Shibushibu Shuush...   \n",
       "\n",
       "         user_rating  \n",
       "3669635            6  \n",
       "2412642            7  \n",
       "3014556            7  \n",
       "732241             7  \n",
       "1937180            5  "
      ]
     },
     "execution_count": 5,
     "metadata": {},
     "output_type": "execute_result"
    }
   ],
   "source": [
    "sample_data.head()"
   ]
  },
  {
   "cell_type": "code",
   "execution_count": 6,
   "metadata": {},
   "outputs": [],
   "source": [
    "ratings = sample_data[[\"name\", \"user_id\"]].reset_index(drop=True)"
   ]
  },
  {
   "cell_type": "code",
   "execution_count": 7,
   "metadata": {},
   "outputs": [],
   "source": [
    "animes = sample_data[[\"name\"]].drop_duplicates().reset_index(drop=True)"
   ]
  },
  {
   "cell_type": "code",
   "execution_count": 8,
   "metadata": {},
   "outputs": [
    {
     "data": {
      "text/html": [
       "<div>\n",
       "<style scoped>\n",
       "    .dataframe tbody tr th:only-of-type {\n",
       "        vertical-align: middle;\n",
       "    }\n",
       "\n",
       "    .dataframe tbody tr th {\n",
       "        vertical-align: top;\n",
       "    }\n",
       "\n",
       "    .dataframe thead th {\n",
       "        text-align: right;\n",
       "    }\n",
       "</style>\n",
       "<table border=\"1\" class=\"dataframe\">\n",
       "  <thead>\n",
       "    <tr style=\"text-align: right;\">\n",
       "      <th></th>\n",
       "      <th>name</th>\n",
       "      <th>user_id</th>\n",
       "    </tr>\n",
       "  </thead>\n",
       "  <tbody>\n",
       "    <tr>\n",
       "      <th>0</th>\n",
       "      <td>Ranpo Kitan: Game of Laplace</td>\n",
       "      <td>562</td>\n",
       "    </tr>\n",
       "    <tr>\n",
       "      <th>1</th>\n",
       "      <td>Death Note Rewrite</td>\n",
       "      <td>42684</td>\n",
       "    </tr>\n",
       "    <tr>\n",
       "      <th>2</th>\n",
       "      <td>Kuroshitsuji II</td>\n",
       "      <td>53767</td>\n",
       "    </tr>\n",
       "    <tr>\n",
       "      <th>3</th>\n",
       "      <td>DearS</td>\n",
       "      <td>27381</td>\n",
       "    </tr>\n",
       "    <tr>\n",
       "      <th>4</th>\n",
       "      <td>Yuusha ni Narenakatta Ore wa Shibushibu Shuush...</td>\n",
       "      <td>57309</td>\n",
       "    </tr>\n",
       "    <tr>\n",
       "      <th>...</th>\n",
       "      <td>...</td>\n",
       "      <td>...</td>\n",
       "    </tr>\n",
       "    <tr>\n",
       "      <th>10002</th>\n",
       "      <td>Shinsekai yori</td>\n",
       "      <td>73517</td>\n",
       "    </tr>\n",
       "    <tr>\n",
       "      <th>10003</th>\n",
       "      <td>Seikimatsu Occult Gakuin</td>\n",
       "      <td>73517</td>\n",
       "    </tr>\n",
       "    <tr>\n",
       "      <th>10004</th>\n",
       "      <td>Futari wa Precure</td>\n",
       "      <td>73517</td>\n",
       "    </tr>\n",
       "    <tr>\n",
       "      <th>10005</th>\n",
       "      <td>Shugo Chara!</td>\n",
       "      <td>73517</td>\n",
       "    </tr>\n",
       "    <tr>\n",
       "      <th>10006</th>\n",
       "      <td>Uchuu Senkan Yamato 2199</td>\n",
       "      <td>73517</td>\n",
       "    </tr>\n",
       "  </tbody>\n",
       "</table>\n",
       "<p>10007 rows × 2 columns</p>\n",
       "</div>"
      ],
      "text/plain": [
       "                                                    name user_id\n",
       "0                           Ranpo Kitan: Game of Laplace     562\n",
       "1                                     Death Note Rewrite   42684\n",
       "2                                        Kuroshitsuji II   53767\n",
       "3                                                  DearS   27381\n",
       "4      Yuusha ni Narenakatta Ore wa Shibushibu Shuush...   57309\n",
       "...                                                  ...     ...\n",
       "10002                                     Shinsekai yori   73517\n",
       "10003                           Seikimatsu Occult Gakuin   73517\n",
       "10004                                  Futari wa Precure   73517\n",
       "10005                                       Shugo Chara!   73517\n",
       "10006                           Uchuu Senkan Yamato 2199   73517\n",
       "\n",
       "[10007 rows x 2 columns]"
      ]
     },
     "execution_count": 8,
     "metadata": {},
     "output_type": "execute_result"
    }
   ],
   "source": [
    "ratings"
   ]
  },
  {
   "cell_type": "code",
   "execution_count": 9,
   "metadata": {},
   "outputs": [
    {
     "data": {
      "text/html": [
       "<div>\n",
       "<style scoped>\n",
       "    .dataframe tbody tr th:only-of-type {\n",
       "        vertical-align: middle;\n",
       "    }\n",
       "\n",
       "    .dataframe tbody tr th {\n",
       "        vertical-align: top;\n",
       "    }\n",
       "\n",
       "    .dataframe thead th {\n",
       "        text-align: right;\n",
       "    }\n",
       "</style>\n",
       "<table border=\"1\" class=\"dataframe\">\n",
       "  <thead>\n",
       "    <tr style=\"text-align: right;\">\n",
       "      <th></th>\n",
       "      <th>name</th>\n",
       "    </tr>\n",
       "  </thead>\n",
       "  <tbody>\n",
       "    <tr>\n",
       "      <th>0</th>\n",
       "      <td>Ranpo Kitan: Game of Laplace</td>\n",
       "    </tr>\n",
       "    <tr>\n",
       "      <th>1</th>\n",
       "      <td>Death Note Rewrite</td>\n",
       "    </tr>\n",
       "    <tr>\n",
       "      <th>2</th>\n",
       "      <td>Kuroshitsuji II</td>\n",
       "    </tr>\n",
       "    <tr>\n",
       "      <th>3</th>\n",
       "      <td>DearS</td>\n",
       "    </tr>\n",
       "    <tr>\n",
       "      <th>4</th>\n",
       "      <td>Yuusha ni Narenakatta Ore wa Shibushibu Shuush...</td>\n",
       "    </tr>\n",
       "    <tr>\n",
       "      <th>...</th>\n",
       "      <td>...</td>\n",
       "    </tr>\n",
       "    <tr>\n",
       "      <th>2196</th>\n",
       "      <td>Hyakujitsu no Bara</td>\n",
       "    </tr>\n",
       "    <tr>\n",
       "      <th>2197</th>\n",
       "      <td>Mitsudomoe Zouryouchuu!</td>\n",
       "    </tr>\n",
       "    <tr>\n",
       "      <th>2198</th>\n",
       "      <td>Taifuu no Noruda</td>\n",
       "    </tr>\n",
       "    <tr>\n",
       "      <th>2199</th>\n",
       "      <td>Gochuumon wa Usagi Desu ka??</td>\n",
       "    </tr>\n",
       "    <tr>\n",
       "      <th>2200</th>\n",
       "      <td>Uchuu Senkan Yamato 2199</td>\n",
       "    </tr>\n",
       "  </tbody>\n",
       "</table>\n",
       "<p>2201 rows × 1 columns</p>\n",
       "</div>"
      ],
      "text/plain": [
       "                                                   name\n",
       "0                          Ranpo Kitan: Game of Laplace\n",
       "1                                    Death Note Rewrite\n",
       "2                                       Kuroshitsuji II\n",
       "3                                                 DearS\n",
       "4     Yuusha ni Narenakatta Ore wa Shibushibu Shuush...\n",
       "...                                                 ...\n",
       "2196                                 Hyakujitsu no Bara\n",
       "2197                            Mitsudomoe Zouryouchuu!\n",
       "2198                                   Taifuu no Noruda\n",
       "2199                       Gochuumon wa Usagi Desu ka??\n",
       "2200                           Uchuu Senkan Yamato 2199\n",
       "\n",
       "[2201 rows x 1 columns]"
      ]
     },
     "execution_count": 9,
     "metadata": {},
     "output_type": "execute_result"
    }
   ],
   "source": [
    "animes"
   ]
  },
  {
   "cell_type": "code",
   "execution_count": 10,
   "metadata": {},
   "outputs": [
    {
     "name": "stderr",
     "output_type": "stream",
     "text": [
      "2023-02-23 16:13:02.280242: I tensorflow/compiler/xla/stream_executor/cuda/cuda_gpu_executor.cc:981] successful NUMA node read from SysFS had negative value (-1), but there must be at least one NUMA node, so returning NUMA node zero\n",
      "2023-02-23 16:13:02.296174: W tensorflow/compiler/xla/stream_executor/platform/default/dso_loader.cc:64] Could not load dynamic library 'libcudnn.so.8'; dlerror: libcudnn.so.8: cannot open shared object file: No such file or directory; LD_LIBRARY_PATH: /usr/local/cuda/lib64:\n",
      "2023-02-23 16:13:02.296199: W tensorflow/core/common_runtime/gpu/gpu_device.cc:1934] Cannot dlopen some GPU libraries. Please make sure the missing libraries mentioned above are installed properly if you would like to use GPU. Follow the guide at https://www.tensorflow.org/install/gpu for how to download and setup the required libraries for your platform.\n",
      "Skipping registering GPU devices...\n",
      "2023-02-23 16:13:02.296621: I tensorflow/core/platform/cpu_feature_guard.cc:193] This TensorFlow binary is optimized with oneAPI Deep Neural Network Library (oneDNN) to use the following CPU instructions in performance-critical operations:  AVX2 FMA\n",
      "To enable them in other operations, rebuild TensorFlow with the appropriate compiler flags.\n"
     ]
    }
   ],
   "source": [
    "ratings = tf.data.Dataset.from_tensor_slices(ratings.to_dict(orient=\"list\"))\n",
    "animes = tf.data.Dataset.from_tensor_slices(animes.to_dict(orient=\"list\"))"
   ]
  },
  {
   "cell_type": "code",
   "execution_count": 11,
   "metadata": {},
   "outputs": [
    {
     "name": "stdout",
     "output_type": "stream",
     "text": [
      "WARNING:tensorflow:From /home/yata/Desktop/rec_survey/.venv/lib/python3.8/site-packages/tensorflow/python/autograph/pyct/static_analysis/liveness.py:83: Analyzer.lamba_check (from tensorflow.python.autograph.pyct.static_analysis.liveness) is deprecated and will be removed after 2023-09-23.\n",
      "Instructions for updating:\n",
      "Lambda fuctions will be no more assumed to be used in the statement where they are used, or at least in the same block. https://github.com/tensorflow/tensorflow/issues/56089\n"
     ]
    }
   ],
   "source": [
    "ratings = ratings.map(lambda x: {\"name\": x[\"name\"], \"user_id\": x[\"user_id\"]})\n",
    "\n",
    "animes = animes.map(lambda x: x[\"name\"])"
   ]
  },
  {
   "cell_type": "code",
   "execution_count": 12,
   "metadata": {},
   "outputs": [],
   "source": [
    "user_ids_vocabulary = tf.keras.layers.StringLookup(mask_token=None)\n",
    "user_ids_vocabulary.adapt(ratings.map(lambda x: x[\"user_id\"]))"
   ]
  },
  {
   "cell_type": "code",
   "execution_count": 13,
   "metadata": {},
   "outputs": [],
   "source": [
    "anime_titles_vocabulary = tf.keras.layers.StringLookup(mask_token=None)\n",
    "anime_titles_vocabulary.adapt(animes)"
   ]
  },
  {
   "cell_type": "code",
   "execution_count": 14,
   "metadata": {},
   "outputs": [],
   "source": [
    "class AnimeModel(tfrs.Model):\n",
    "    # We derive from a custom base class to help reduce boilerplate. Under the hood,\n",
    "    # these are still plain Keras Models.\n",
    "\n",
    "    def __init__(\n",
    "        self,\n",
    "        user_model: tf.keras.Model,\n",
    "        anime_model: tf.keras.Model,\n",
    "        task: tfrs.tasks.Retrieval,\n",
    "    ):\n",
    "        super().__init__()\n",
    "\n",
    "        # Set up user and anime representations.\n",
    "        self.user_model = user_model\n",
    "        self.anime_model = anime_model\n",
    "\n",
    "        # Set up a retrieval task.\n",
    "        self.task = task\n",
    "\n",
    "    def compute_loss(\n",
    "        self, features: Dict[Text, tf.Tensor], training=False\n",
    "    ) -> tf.Tensor:\n",
    "        # Define how the loss is computed.\n",
    "\n",
    "        user_embeddings = self.user_model(features[\"user_id\"])\n",
    "        anime_embeddings = self.anime_model(features[\"name\"])\n",
    "\n",
    "        return self.task(user_embeddings, anime_embeddings)"
   ]
  },
  {
   "cell_type": "code",
   "execution_count": 15,
   "metadata": {},
   "outputs": [],
   "source": [
    "# Define user and anime models.\n",
    "user_model = tf.keras.Sequential(\n",
    "    [\n",
    "        user_ids_vocabulary,\n",
    "        tf.keras.layers.Embedding(user_ids_vocabulary.vocabulary_size(), 64),\n",
    "    ]\n",
    ")\n",
    "\n",
    "anime_model = tf.keras.Sequential(\n",
    "    [\n",
    "        anime_titles_vocabulary,\n",
    "        tf.keras.layers.Embedding(anime_titles_vocabulary.vocabulary_size(), 64),\n",
    "    ]\n",
    ")"
   ]
  },
  {
   "cell_type": "code",
   "execution_count": 16,
   "metadata": {},
   "outputs": [],
   "source": [
    "# Define your objectives.\n",
    "task = tfrs.tasks.Retrieval(\n",
    "    metrics=tfrs.metrics.FactorizedTopK(animes.batch(128).map(anime_model))\n",
    ")"
   ]
  },
  {
   "cell_type": "code",
   "execution_count": 17,
   "metadata": {},
   "outputs": [],
   "source": [
    "# Create a retrieval model.\n",
    "model = AnimeModel(user_model, anime_model, task)\n",
    "model.compile(optimizer=tf.keras.optimizers.Adagrad(0.5))"
   ]
  },
  {
   "cell_type": "code",
   "execution_count": 18,
   "metadata": {},
   "outputs": [
    {
     "name": "stdout",
     "output_type": "stream",
     "text": [
      "Epoch 1/10\n",
      "10/10 [==============================] - 2s 69ms/step - factorized_top_k/top_1_categorical_accuracy: 0.0000e+00 - factorized_top_k/top_5_categorical_accuracy: 0.0021 - factorized_top_k/top_10_categorical_accuracy: 0.0053 - factorized_top_k/top_50_categorical_accuracy: 0.0311 - factorized_top_k/top_100_categorical_accuracy: 0.0622 - loss: 6771.0388 - regularization_loss: 0.0000e+00 - total_loss: 6771.0388\n",
      "Epoch 2/10\n",
      "10/10 [==============================] - 1s 63ms/step - factorized_top_k/top_1_categorical_accuracy: 0.0674 - factorized_top_k/top_5_categorical_accuracy: 0.4791 - factorized_top_k/top_10_categorical_accuracy: 0.5432 - factorized_top_k/top_50_categorical_accuracy: 0.7022 - factorized_top_k/top_100_categorical_accuracy: 0.7782 - loss: 4873.0815 - regularization_loss: 0.0000e+00 - total_loss: 4873.0815\n",
      "Epoch 3/10\n",
      "10/10 [==============================] - 1s 62ms/step - factorized_top_k/top_1_categorical_accuracy: 0.3340 - factorized_top_k/top_5_categorical_accuracy: 0.8222 - factorized_top_k/top_10_categorical_accuracy: 0.8611 - factorized_top_k/top_50_categorical_accuracy: 0.9096 - factorized_top_k/top_100_categorical_accuracy: 0.9463 - loss: 2421.7314 - regularization_loss: 0.0000e+00 - total_loss: 2421.7314\n",
      "Epoch 4/10\n",
      "10/10 [==============================] - 1s 63ms/step - factorized_top_k/top_1_categorical_accuracy: 0.4556 - factorized_top_k/top_5_categorical_accuracy: 0.9337 - factorized_top_k/top_10_categorical_accuracy: 0.9602 - factorized_top_k/top_50_categorical_accuracy: 0.9795 - factorized_top_k/top_100_categorical_accuracy: 0.9851 - loss: 1347.9728 - regularization_loss: 0.0000e+00 - total_loss: 1347.9728\n",
      "Epoch 5/10\n",
      "10/10 [==============================] - 1s 63ms/step - factorized_top_k/top_1_categorical_accuracy: 0.4480 - factorized_top_k/top_5_categorical_accuracy: 0.9656 - factorized_top_k/top_10_categorical_accuracy: 0.9867 - factorized_top_k/top_50_categorical_accuracy: 0.9957 - factorized_top_k/top_100_categorical_accuracy: 0.9971 - loss: 970.2535 - regularization_loss: 0.0000e+00 - total_loss: 970.2535\n",
      "Epoch 6/10\n",
      "10/10 [==============================] - 1s 65ms/step - factorized_top_k/top_1_categorical_accuracy: 0.4382 - factorized_top_k/top_5_categorical_accuracy: 0.9781 - factorized_top_k/top_10_categorical_accuracy: 0.9939 - factorized_top_k/top_50_categorical_accuracy: 0.9984 - factorized_top_k/top_100_categorical_accuracy: 0.9988 - loss: 852.8008 - regularization_loss: 0.0000e+00 - total_loss: 852.8008\n",
      "Epoch 7/10\n",
      "10/10 [==============================] - 1s 65ms/step - factorized_top_k/top_1_categorical_accuracy: 0.4036 - factorized_top_k/top_5_categorical_accuracy: 0.9863 - factorized_top_k/top_10_categorical_accuracy: 0.9981 - factorized_top_k/top_50_categorical_accuracy: 0.9994 - factorized_top_k/top_100_categorical_accuracy: 0.9995 - loss: 786.9718 - regularization_loss: 0.0000e+00 - total_loss: 786.9718\n",
      "Epoch 8/10\n",
      "10/10 [==============================] - 1s 63ms/step - factorized_top_k/top_1_categorical_accuracy: 0.3942 - factorized_top_k/top_5_categorical_accuracy: 0.9896 - factorized_top_k/top_10_categorical_accuracy: 0.9986 - factorized_top_k/top_50_categorical_accuracy: 0.9996 - factorized_top_k/top_100_categorical_accuracy: 0.9999 - loss: 752.8592 - regularization_loss: 0.0000e+00 - total_loss: 752.8592\n",
      "Epoch 9/10\n",
      "10/10 [==============================] - 1s 64ms/step - factorized_top_k/top_1_categorical_accuracy: 0.3787 - factorized_top_k/top_5_categorical_accuracy: 0.9909 - factorized_top_k/top_10_categorical_accuracy: 0.9995 - factorized_top_k/top_50_categorical_accuracy: 0.9998 - factorized_top_k/top_100_categorical_accuracy: 0.9999 - loss: 724.4770 - regularization_loss: 0.0000e+00 - total_loss: 724.4770\n",
      "Epoch 10/10\n",
      "10/10 [==============================] - 1s 62ms/step - factorized_top_k/top_1_categorical_accuracy: 0.3772 - factorized_top_k/top_5_categorical_accuracy: 0.9925 - factorized_top_k/top_10_categorical_accuracy: 0.9998 - factorized_top_k/top_50_categorical_accuracy: 1.0000 - factorized_top_k/top_100_categorical_accuracy: 1.0000 - loss: 708.2173 - regularization_loss: 0.0000e+00 - total_loss: 708.2173\n"
     ]
    },
    {
     "data": {
      "text/plain": [
       "<keras.callbacks.History at 0x7f50c82e4bb0>"
      ]
     },
     "execution_count": 18,
     "metadata": {},
     "output_type": "execute_result"
    }
   ],
   "source": [
    "# Train for 3 epochs.\n",
    "model.fit(ratings.batch(1024), epochs=10)"
   ]
  },
  {
   "cell_type": "code",
   "execution_count": 19,
   "metadata": {},
   "outputs": [
    {
     "data": {
      "text/plain": [
       "<tensorflow_recommenders.layers.factorized_top_k.BruteForce at 0x7f50c80be940>"
      ]
     },
     "execution_count": 19,
     "metadata": {},
     "output_type": "execute_result"
    }
   ],
   "source": [
    "# Use brute-force search to set up retrieval using the trained representations.\n",
    "index = tfrs.layers.factorized_top_k.BruteForce(model.user_model, k=100)\n",
    "index.index_from_dataset(\n",
    "    animes.batch(100).map(lambda title: (title, model.anime_model(title)))\n",
    ")"
   ]
  },
  {
   "cell_type": "code",
   "execution_count": 20,
   "metadata": {},
   "outputs": [],
   "source": [
    "# Get some recommendations.\n",
    "_, titles = index(np.array([\"73517\"]))"
   ]
  },
  {
   "cell_type": "code",
   "execution_count": 21,
   "metadata": {},
   "outputs": [],
   "source": [
    "# remove watched anime\n",
    "pred_df = pd.DataFrame(titles).T\n",
    "pred_df.columns = [\"name\"]\n",
    "pred_df = pred_df.applymap(lambda x: x.decode(\"utf-8\"))\n",
    "pred_df = pd.merge(pred_df, test_df, on=\"name\", how=\"outer\")"
   ]
  },
  {
   "cell_type": "code",
   "execution_count": 22,
   "metadata": {},
   "outputs": [
    {
     "data": {
      "text/plain": [
       "7      Aa! Megami-sama!: Tatakau Tsubasa\n",
       "8                          Utawarerumono\n",
       "9     Tales of Zestiria: Doushi no Yoake\n",
       "10                  Clannad: After Story\n",
       "11                         Inu x Boku SS\n",
       "12                          Sacred Seven\n",
       "13                    Witch Hunter Robin\n",
       "14               Kyou, Koi wo Hajimemasu\n",
       "15                              Iron Man\n",
       "16            Mahou Shoujo Sonico★Magica\n",
       "Name: name, dtype: object"
      ]
     },
     "execution_count": 22,
     "metadata": {},
     "output_type": "execute_result"
    }
   ],
   "source": [
    "pred_df[pred_df[\"user_id\"].isna()][\"name\"][0:10]"
   ]
  },
  {
   "cell_type": "code",
   "execution_count": null,
   "metadata": {},
   "outputs": [],
   "source": []
  }
 ],
 "metadata": {
  "kernelspec": {
   "display_name": ".venv",
   "language": "python",
   "name": "python3"
  },
  "language_info": {
   "codemirror_mode": {
    "name": "ipython",
    "version": 3
   },
   "file_extension": ".py",
   "mimetype": "text/x-python",
   "name": "python",
   "nbconvert_exporter": "python",
   "pygments_lexer": "ipython3",
   "version": "3.8.15"
  },
  "orig_nbformat": 4,
  "vscode": {
   "interpreter": {
    "hash": "c7d37432957a4a72936bc8bbaaa683a4cbe5f1c5a2b967b084a21d45b3c6ffa6"
   }
  }
 },
 "nbformat": 4,
 "nbformat_minor": 2
}

{
 "cells": [
  {
   "cell_type": "code",
   "execution_count": 1,
   "metadata": {},
   "outputs": [],
   "source": [
    "import pandas as pd\n",
    "import numpy as np\n",
    "from lightfm.data import Dataset\n",
    "from lightfm import LightFM\n"
   ]
  },
  {
   "cell_type": "code",
   "execution_count": 2,
   "metadata": {},
   "outputs": [],
   "source": [
    "df = pd.read_pickle(\"../data/data.pkl\")"
   ]
  },
  {
   "cell_type": "code",
   "execution_count": 3,
   "metadata": {},
   "outputs": [
    {
     "data": {
      "text/html": [
       "<div>\n",
       "<style scoped>\n",
       "    .dataframe tbody tr th:only-of-type {\n",
       "        vertical-align: middle;\n",
       "    }\n",
       "\n",
       "    .dataframe tbody tr th {\n",
       "        vertical-align: top;\n",
       "    }\n",
       "\n",
       "    .dataframe thead th {\n",
       "        text-align: right;\n",
       "    }\n",
       "</style>\n",
       "<table border=\"1\" class=\"dataframe\">\n",
       "  <thead>\n",
       "    <tr style=\"text-align: right;\">\n",
       "      <th></th>\n",
       "      <th>user_id</th>\n",
       "      <th>anime_id</th>\n",
       "      <th>user_rating</th>\n",
       "      <th>name</th>\n",
       "      <th>genre</th>\n",
       "      <th>type</th>\n",
       "      <th>episodes</th>\n",
       "      <th>anime_rating</th>\n",
       "      <th>members</th>\n",
       "    </tr>\n",
       "  </thead>\n",
       "  <tbody>\n",
       "    <tr>\n",
       "      <th>0</th>\n",
       "      <td>1</td>\n",
       "      <td>8074</td>\n",
       "      <td>10</td>\n",
       "      <td>Highschool of the Dead</td>\n",
       "      <td>Action, Ecchi, Horror, Supernatural</td>\n",
       "      <td>TV</td>\n",
       "      <td>12</td>\n",
       "      <td>7.46</td>\n",
       "      <td>535892</td>\n",
       "    </tr>\n",
       "    <tr>\n",
       "      <th>1</th>\n",
       "      <td>3</td>\n",
       "      <td>8074</td>\n",
       "      <td>6</td>\n",
       "      <td>Highschool of the Dead</td>\n",
       "      <td>Action, Ecchi, Horror, Supernatural</td>\n",
       "      <td>TV</td>\n",
       "      <td>12</td>\n",
       "      <td>7.46</td>\n",
       "      <td>535892</td>\n",
       "    </tr>\n",
       "    <tr>\n",
       "      <th>2</th>\n",
       "      <td>5</td>\n",
       "      <td>8074</td>\n",
       "      <td>2</td>\n",
       "      <td>Highschool of the Dead</td>\n",
       "      <td>Action, Ecchi, Horror, Supernatural</td>\n",
       "      <td>TV</td>\n",
       "      <td>12</td>\n",
       "      <td>7.46</td>\n",
       "      <td>535892</td>\n",
       "    </tr>\n",
       "    <tr>\n",
       "      <th>3</th>\n",
       "      <td>12</td>\n",
       "      <td>8074</td>\n",
       "      <td>6</td>\n",
       "      <td>Highschool of the Dead</td>\n",
       "      <td>Action, Ecchi, Horror, Supernatural</td>\n",
       "      <td>TV</td>\n",
       "      <td>12</td>\n",
       "      <td>7.46</td>\n",
       "      <td>535892</td>\n",
       "    </tr>\n",
       "    <tr>\n",
       "      <th>4</th>\n",
       "      <td>14</td>\n",
       "      <td>8074</td>\n",
       "      <td>6</td>\n",
       "      <td>Highschool of the Dead</td>\n",
       "      <td>Action, Ecchi, Horror, Supernatural</td>\n",
       "      <td>TV</td>\n",
       "      <td>12</td>\n",
       "      <td>7.46</td>\n",
       "      <td>535892</td>\n",
       "    </tr>\n",
       "  </tbody>\n",
       "</table>\n",
       "</div>"
      ],
      "text/plain": [
       "   user_id  anime_id  user_rating                    name  \\\n",
       "0        1      8074           10  Highschool of the Dead   \n",
       "1        3      8074            6  Highschool of the Dead   \n",
       "2        5      8074            2  Highschool of the Dead   \n",
       "3       12      8074            6  Highschool of the Dead   \n",
       "4       14      8074            6  Highschool of the Dead   \n",
       "\n",
       "                                 genre type episodes  anime_rating  members  \n",
       "0  Action, Ecchi, Horror, Supernatural   TV       12          7.46   535892  \n",
       "1  Action, Ecchi, Horror, Supernatural   TV       12          7.46   535892  \n",
       "2  Action, Ecchi, Horror, Supernatural   TV       12          7.46   535892  \n",
       "3  Action, Ecchi, Horror, Supernatural   TV       12          7.46   535892  \n",
       "4  Action, Ecchi, Horror, Supernatural   TV       12          7.46   535892  "
      ]
     },
     "execution_count": 3,
     "metadata": {},
     "output_type": "execute_result"
    }
   ],
   "source": [
    "df.head()"
   ]
  },
  {
   "cell_type": "code",
   "execution_count": 4,
   "metadata": {},
   "outputs": [
    {
     "data": {
      "text/plain": [
       "(5957004, 9)"
      ]
     },
     "execution_count": 4,
     "metadata": {},
     "output_type": "execute_result"
    }
   ],
   "source": [
    "df.shape"
   ]
  },
  {
   "cell_type": "code",
   "execution_count": 5,
   "metadata": {},
   "outputs": [],
   "source": [
    "df = df.sample(10000, random_state=42)"
   ]
  },
  {
   "cell_type": "code",
   "execution_count": 6,
   "metadata": {},
   "outputs": [],
   "source": [
    "df = df[[\"user_id\", \"name\", \"user_rating\", \"genre\", \"type\", \"episodes\"]]"
   ]
  },
  {
   "cell_type": "code",
   "execution_count": 7,
   "metadata": {},
   "outputs": [],
   "source": [
    "pre_df = df.copy()"
   ]
  },
  {
   "cell_type": "code",
   "execution_count": 8,
   "metadata": {},
   "outputs": [],
   "source": [
    "pre_df[\"item_features\"] = pre_df[[\"genre\", \"type\", \"episodes\"]].values.tolist()\n",
    "pre_df[\"user_features\"] = pre_df[[\"user_rating\"]].values.tolist()"
   ]
  },
  {
   "cell_type": "code",
   "execution_count": 9,
   "metadata": {},
   "outputs": [],
   "source": [
    "pre_df.drop([\"genre\", \"type\", \"episodes\", \"user_rating\"], axis=1, inplace=True)"
   ]
  },
  {
   "cell_type": "code",
   "execution_count": 10,
   "metadata": {},
   "outputs": [
    {
     "data": {
      "text/html": [
       "<div>\n",
       "<style scoped>\n",
       "    .dataframe tbody tr th:only-of-type {\n",
       "        vertical-align: middle;\n",
       "    }\n",
       "\n",
       "    .dataframe tbody tr th {\n",
       "        vertical-align: top;\n",
       "    }\n",
       "\n",
       "    .dataframe thead th {\n",
       "        text-align: right;\n",
       "    }\n",
       "</style>\n",
       "<table border=\"1\" class=\"dataframe\">\n",
       "  <thead>\n",
       "    <tr style=\"text-align: right;\">\n",
       "      <th></th>\n",
       "      <th>user_id</th>\n",
       "      <th>name</th>\n",
       "      <th>item_features</th>\n",
       "      <th>user_features</th>\n",
       "    </tr>\n",
       "  </thead>\n",
       "  <tbody>\n",
       "    <tr>\n",
       "      <th>3669635</th>\n",
       "      <td>562</td>\n",
       "      <td>Ranpo Kitan: Game of Laplace</td>\n",
       "      <td>[Mystery, TV, 11]</td>\n",
       "      <td>[6]</td>\n",
       "    </tr>\n",
       "    <tr>\n",
       "      <th>2412642</th>\n",
       "      <td>42684</td>\n",
       "      <td>Death Note Rewrite</td>\n",
       "      <td>[Mystery, Police, Psychological, Supernatural,...</td>\n",
       "      <td>[7]</td>\n",
       "    </tr>\n",
       "    <tr>\n",
       "      <th>3014556</th>\n",
       "      <td>53767</td>\n",
       "      <td>Kuroshitsuji II</td>\n",
       "      <td>[Action, Comedy, Demons, Fantasy, Shounen, Sup...</td>\n",
       "      <td>[7]</td>\n",
       "    </tr>\n",
       "    <tr>\n",
       "      <th>732241</th>\n",
       "      <td>27381</td>\n",
       "      <td>DearS</td>\n",
       "      <td>[Comedy, Ecchi, Harem, Romance, Sci-Fi, TV, 12]</td>\n",
       "      <td>[7]</td>\n",
       "    </tr>\n",
       "    <tr>\n",
       "      <th>1937180</th>\n",
       "      <td>57309</td>\n",
       "      <td>Yuusha ni Narenakatta Ore wa Shibushibu Shuush...</td>\n",
       "      <td>[Comedy, Ecchi, Fantasy, Romance, TV, 12]</td>\n",
       "      <td>[5]</td>\n",
       "    </tr>\n",
       "  </tbody>\n",
       "</table>\n",
       "</div>"
      ],
      "text/plain": [
       "         user_id                                               name  \\\n",
       "3669635      562                       Ranpo Kitan: Game of Laplace   \n",
       "2412642    42684                                 Death Note Rewrite   \n",
       "3014556    53767                                    Kuroshitsuji II   \n",
       "732241     27381                                              DearS   \n",
       "1937180    57309  Yuusha ni Narenakatta Ore wa Shibushibu Shuush...   \n",
       "\n",
       "                                             item_features user_features  \n",
       "3669635                                  [Mystery, TV, 11]           [6]  \n",
       "2412642  [Mystery, Police, Psychological, Supernatural,...           [7]  \n",
       "3014556  [Action, Comedy, Demons, Fantasy, Shounen, Sup...           [7]  \n",
       "732241     [Comedy, Ecchi, Harem, Romance, Sci-Fi, TV, 12]           [7]  \n",
       "1937180          [Comedy, Ecchi, Fantasy, Romance, TV, 12]           [5]  "
      ]
     },
     "execution_count": 10,
     "metadata": {},
     "output_type": "execute_result"
    }
   ],
   "source": [
    "pre_df.head()"
   ]
  },
  {
   "cell_type": "code",
   "execution_count": 11,
   "metadata": {},
   "outputs": [],
   "source": [
    "# create encorder\n",
    "uq_users = np.unique(pre_df.user_id.values)\n",
    "uq_items = np.unique(pre_df.name.values)"
   ]
  },
  {
   "cell_type": "code",
   "execution_count": 12,
   "metadata": {},
   "outputs": [],
   "source": [
    "uq_user_features = np.unique(np.array(list(pre_df.user_features.values)))\n",
    "uq_item_features = np.unique(np.array(list(pre_df.item_features.values)))"
   ]
  },
  {
   "cell_type": "code",
   "execution_count": 13,
   "metadata": {},
   "outputs": [],
   "source": [
    "dataset = Dataset()\n",
    "dataset.fit(uq_users, uq_items, item_features=uq_item_features, user_features=uq_user_features)"
   ]
  },
  {
   "cell_type": "code",
   "execution_count": 14,
   "metadata": {},
   "outputs": [],
   "source": [
    "# build dataset\n",
    "df_train_interactions = pre_df[[\"user_id\", \"name\"]].drop_duplicates()\n",
    "train_interactions = list(df_train_interactions.itertuples(index=False, name=None))  # [(user_id, item_id), ...]"
   ]
  },
  {
   "cell_type": "code",
   "execution_count": 15,
   "metadata": {},
   "outputs": [
    {
     "data": {
      "text/plain": [
       "[(562, 'Ranpo Kitan: Game of Laplace'),\n",
       " (42684, 'Death Note Rewrite'),\n",
       " (53767, 'Kuroshitsuji II'),\n",
       " (27381, 'DearS'),\n",
       " (57309,\n",
       "  'Yuusha ni Narenakatta Ore wa Shibushibu Shuushoku wo Ketsui Shimashita.'),\n",
       " (13894, 'Tokyo Ghoul: &quot;Jack&quot;'),\n",
       " (9750, 'Rosario to Vampire'),\n",
       " (56631, 'Inugami-san to Nekoyama-san'),\n",
       " (20853, 'Magi: The Kingdom of Magic'),\n",
       " (26667, 'One Piece Movie 5: Norowareta Seiken')]"
      ]
     },
     "execution_count": 15,
     "metadata": {},
     "output_type": "execute_result"
    }
   ],
   "source": [
    "train_interactions[0:10]"
   ]
  },
  {
   "cell_type": "code",
   "execution_count": 16,
   "metadata": {},
   "outputs": [],
   "source": [
    "# user feature matrix\n",
    "df_user_features = pre_df[[\"user_id\",\"user_features\"]].drop_duplicates(subset='user_id').set_index('user_id')\n",
    "user_features = list(df_user_features.itertuples(index=True, name=None))  # (user_id, [feature1, feature2, ...])"
   ]
  },
  {
   "cell_type": "code",
   "execution_count": 17,
   "metadata": {},
   "outputs": [
    {
     "data": {
      "text/plain": [
       "[(562, [6]),\n",
       " (42684, [7]),\n",
       " (53767, [7]),\n",
       " (27381, [7]),\n",
       " (57309, [5]),\n",
       " (13894, [7]),\n",
       " (9750, [7]),\n",
       " (56631, [7]),\n",
       " (20853, [8]),\n",
       " (26667, [10])]"
      ]
     },
     "execution_count": 17,
     "metadata": {},
     "output_type": "execute_result"
    }
   ],
   "source": [
    "user_features[0:10]"
   ]
  },
  {
   "cell_type": "code",
   "execution_count": 18,
   "metadata": {},
   "outputs": [],
   "source": [
    "# item feature matrix\n",
    "df_item_features = pre_df[[\"name\",\"item_features\"]].drop_duplicates(subset='name').set_index('name')\n",
    "item_features = list(df_item_features.itertuples(index=True, name=None))  # (item_id, [feature1, feature2, ...])"
   ]
  },
  {
   "cell_type": "code",
   "execution_count": 19,
   "metadata": {},
   "outputs": [
    {
     "data": {
      "text/plain": [
       "[('Ranpo Kitan: Game of Laplace', ['Mystery', 'TV', '11']),\n",
       " ('Death Note Rewrite',\n",
       "  ['Mystery, Police, Psychological, Supernatural, Thriller', 'Special', '2']),\n",
       " ('Kuroshitsuji II',\n",
       "  ['Action, Comedy, Demons, Fantasy, Shounen, Supernatural', 'TV', '12']),\n",
       " ('DearS', ['Comedy, Ecchi, Harem, Romance, Sci-Fi', 'TV', '12']),\n",
       " ('Yuusha ni Narenakatta Ore wa Shibushibu Shuushoku wo Ketsui Shimashita.',\n",
       "  ['Comedy, Ecchi, Fantasy, Romance', 'TV', '12']),\n",
       " ('Tokyo Ghoul: &quot;Jack&quot;',\n",
       "  ['Action, Drama, Horror, School, Seinen, Supernatural', 'OVA', '1']),\n",
       " ('Rosario to Vampire',\n",
       "  ['Comedy, Ecchi, Fantasy, Harem, Romance, School, Shounen, Vampire',\n",
       "   'TV',\n",
       "   '13']),\n",
       " ('Inugami-san to Nekoyama-san', ['Comedy, School, Shoujo Ai', 'TV', '12']),\n",
       " ('Magi: The Kingdom of Magic',\n",
       "  ['Action, Adventure, Fantasy, Magic, Shounen', 'TV', '25']),\n",
       " ('One Piece Movie 5: Norowareta Seiken',\n",
       "  ['Action, Adventure, Comedy, Fantasy, Shounen, Super Power', 'Movie', '1'])]"
      ]
     },
     "execution_count": 19,
     "metadata": {},
     "output_type": "execute_result"
    }
   ],
   "source": [
    "item_features[0:10]"
   ]
  },
  {
   "cell_type": "code",
   "execution_count": 20,
   "metadata": {},
   "outputs": [],
   "source": [
    "train_interactions, _ = dataset.build_interactions(train_interactions)\n",
    "user_features = dataset.build_user_features(user_features)\n",
    "item_features = dataset.build_item_features(item_features)"
   ]
  },
  {
   "cell_type": "code",
   "execution_count": 21,
   "metadata": {},
   "outputs": [],
   "source": [
    "# get mapping\n",
    "user_id_map, user_feature_map, item_id_map, item_feature_map = dataset.mapping()"
   ]
  },
  {
   "cell_type": "code",
   "execution_count": null,
   "metadata": {},
   "outputs": [],
   "source": []
  },
  {
   "cell_type": "code",
   "execution_count": 22,
   "metadata": {},
   "outputs": [
    {
     "data": {
      "text/plain": [
       "<lightfm.lightfm.LightFM at 0x7fc81ce2ac70>"
      ]
     },
     "execution_count": 22,
     "metadata": {},
     "output_type": "execute_result"
    }
   ],
   "source": [
    "model = LightFM(no_components=10, loss='warp', random_state=42)\n",
    "model.fit(train_interactions, item_features=item_features, user_features=user_features, epochs=10)"
   ]
  },
  {
   "cell_type": "code",
   "execution_count": 23,
   "metadata": {},
   "outputs": [],
   "source": [
    "predictions = model.predict(user_ids=0, item_ids=np.array(range(0, len(item_id_map))))"
   ]
  },
  {
   "cell_type": "code",
   "execution_count": 24,
   "metadata": {},
   "outputs": [],
   "source": [
    "sort_idx = np.argsort(-predictions)"
   ]
  },
  {
   "cell_type": "code",
   "execution_count": 25,
   "metadata": {},
   "outputs": [
    {
     "data": {
      "text/plain": [
       "array([ 274, 2027,  399,  518,  328,  507, 1746,   84, 1497,  535])"
      ]
     },
     "execution_count": 25,
     "metadata": {},
     "output_type": "execute_result"
    }
   ],
   "source": [
    "sort_idx[0:10]"
   ]
  },
  {
   "cell_type": "code",
   "execution_count": 26,
   "metadata": {},
   "outputs": [],
   "source": [
    "recommend_list = []\n",
    "\n",
    "for id in sort_idx[0:10]:\n",
    "    for k, v in enumerate(item_id_map):\n",
    "        if k == id:\n",
    "            recommend_list.append([k, v])\n"
   ]
  },
  {
   "cell_type": "code",
   "execution_count": 27,
   "metadata": {},
   "outputs": [
    {
     "data": {
      "text/plain": [
       "[[274, 'Byousoku 5 Centimeter'],\n",
       " [2027, 'Toradora!'],\n",
       " [399, 'Deadman Wonderland'],\n",
       " [518, 'Elfen Lied'],\n",
       " [328, 'Clannad: After Story - Mou Hitotsu no Sekai, Kyou-hen'],\n",
       " [507, 'Durarara!!'],\n",
       " [1746, 'Sen to Chihiro no Kamikakushi'],\n",
       " [84, 'Angel Beats!'],\n",
       " [1497, 'Ore no Imouto ga Konnani Kawaii Wake ga Nai'],\n",
       " [535, 'FLCL']]"
      ]
     },
     "execution_count": 27,
     "metadata": {},
     "output_type": "execute_result"
    }
   ],
   "source": [
    "recommend_list"
   ]
  },
  {
   "cell_type": "code",
   "execution_count": null,
   "metadata": {},
   "outputs": [],
   "source": []
  }
 ],
 "metadata": {
  "kernelspec": {
   "display_name": ".venv",
   "language": "python",
   "name": "python3"
  },
  "language_info": {
   "codemirror_mode": {
    "name": "ipython",
    "version": 3
   },
   "file_extension": ".py",
   "mimetype": "text/x-python",
   "name": "python",
   "nbconvert_exporter": "python",
   "pygments_lexer": "ipython3",
   "version": "3.8.15"
  },
  "orig_nbformat": 4,
  "vscode": {
   "interpreter": {
    "hash": "c7d37432957a4a72936bc8bbaaa683a4cbe5f1c5a2b967b084a21d45b3c6ffa6"
   }
  }
 },
 "nbformat": 4,
 "nbformat_minor": 2
}

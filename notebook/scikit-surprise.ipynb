{
 "cells": [
  {
   "cell_type": "code",
   "execution_count": 1,
   "metadata": {},
   "outputs": [],
   "source": [
    "# https://github.com/NicolasHug/Surprise"
   ]
  },
  {
   "cell_type": "code",
   "execution_count": 2,
   "metadata": {},
   "outputs": [],
   "source": [
    "import pandas as pd\n",
    "from surprise import Dataset, Reader\n",
    "from surprise import SVD, NMF\n",
    "from surprise.model_selection import cross_validate"
   ]
  },
  {
   "cell_type": "code",
   "execution_count": 3,
   "metadata": {},
   "outputs": [],
   "source": [
    "df = pd.read_pickle(\"../data/data.pkl\")"
   ]
  },
  {
   "cell_type": "code",
   "execution_count": 4,
   "metadata": {},
   "outputs": [],
   "source": [
    "df = df[[\"user_id\", \"name\", \"user_rating\"]]"
   ]
  },
  {
   "cell_type": "code",
   "execution_count": 5,
   "metadata": {},
   "outputs": [
    {
     "data": {
      "text/plain": [
       "(5957004, 3)"
      ]
     },
     "execution_count": 5,
     "metadata": {},
     "output_type": "execute_result"
    }
   ],
   "source": [
    "df.shape"
   ]
  },
  {
   "attachments": {},
   "cell_type": "markdown",
   "metadata": {},
   "source": [
    "### Create my dataset"
   ]
  },
  {
   "cell_type": "code",
   "execution_count": 6,
   "metadata": {},
   "outputs": [
    {
     "name": "stdout",
     "output_type": "stream",
     "text": [
      "73517\n"
     ]
    }
   ],
   "source": [
    "test_id = df[\"user_id\"].max() + 1\n",
    "print(test_id)\n",
    "\n",
    "test_df = [\n",
    "    [test_id, \"Angel Beats!\", 10],\n",
    "    [test_id, \"Ookami to Koushinryou\", 10],\n",
    "    [test_id, \"Shinsekai yori\", 8],\n",
    "    [test_id, \"Seikimatsu Occult Gakuin\", 6],\n",
    "    [test_id, \"Futari wa Precure\", 8],\n",
    "    [test_id, \"Shugo Chara!\", 8],\n",
    "    [test_id, \"Uchuu Senkan Yamato 2199\", 9],\n",
    "]\n",
    "\n",
    "test_df = pd.DataFrame(test_df, columns=df.columns)"
   ]
  },
  {
   "attachments": {},
   "cell_type": "markdown",
   "metadata": {},
   "source": [
    "### Create dataset"
   ]
  },
  {
   "cell_type": "code",
   "execution_count": 7,
   "metadata": {},
   "outputs": [],
   "source": [
    "# reduce data due to memory limitation\n",
    "sample_data = df.sample(10000, random_state=42)\n",
    "sample_data = pd.concat([sample_data, test_df], axis=0)"
   ]
  },
  {
   "cell_type": "code",
   "execution_count": 8,
   "metadata": {},
   "outputs": [],
   "source": [
    "reader = Reader(rating_scale=(1, 10))\n",
    "data = Dataset.load_from_df(sample_data, reader)"
   ]
  },
  {
   "cell_type": "code",
   "execution_count": 9,
   "metadata": {},
   "outputs": [],
   "source": [
    "del df, sample_data"
   ]
  },
  {
   "attachments": {},
   "cell_type": "markdown",
   "metadata": {},
   "source": [
    "### SVD (5-fold cross-validation)"
   ]
  },
  {
   "cell_type": "code",
   "execution_count": 10,
   "metadata": {},
   "outputs": [
    {
     "name": "stdout",
     "output_type": "stream",
     "text": [
      "Evaluating RMSE, MAE of algorithm SVD on 5 split(s).\n",
      "\n",
      "                  Fold 1  Fold 2  Fold 3  Fold 4  Fold 5  Mean    Std     \n",
      "RMSE (testset)    1.4519  1.4475  1.5053  1.5090  1.5200  1.4867  0.0306  \n",
      "MAE (testset)     1.1214  1.1183  1.1679  1.1635  1.1837  1.1510  0.0263  \n",
      "Fit time          0.06    0.06    0.06    0.07    0.07    0.07    0.00    \n",
      "Test time         0.03    0.01    0.01    0.01    0.01    0.01    0.01    \n"
     ]
    },
    {
     "data": {
      "text/plain": [
       "{'test_rmse': array([1.45192788, 1.4475261 , 1.50528692, 1.50895954, 1.52004329]),\n",
       " 'test_mae': array([1.12143984, 1.11828161, 1.16787544, 1.16352523, 1.18369023]),\n",
       " 'fit_time': (0.06277012825012207,\n",
       "  0.06219673156738281,\n",
       "  0.064300537109375,\n",
       "  0.07235503196716309,\n",
       "  0.06697344779968262),\n",
       " 'test_time': (0.03257417678833008,\n",
       "  0.00816488265991211,\n",
       "  0.007932901382446289,\n",
       "  0.008143424987792969,\n",
       "  0.008212804794311523)}"
      ]
     },
     "execution_count": 10,
     "metadata": {},
     "output_type": "execute_result"
    }
   ],
   "source": [
    "# Use the famous SVD algorithm.\n",
    "algo = SVD()\n",
    "\n",
    "# Run 5-fold cross-validation and print results.\n",
    "cross_validate(algo, data, measures=['RMSE', 'MAE'], cv=5, verbose=True)"
   ]
  },
  {
   "cell_type": "code",
   "execution_count": 11,
   "metadata": {},
   "outputs": [],
   "source": [
    "del algo"
   ]
  },
  {
   "attachments": {},
   "cell_type": "markdown",
   "metadata": {},
   "source": [
    "### Non negative matrix factorization"
   ]
  },
  {
   "cell_type": "code",
   "execution_count": 12,
   "metadata": {},
   "outputs": [
    {
     "data": {
      "text/plain": [
       "<surprise.prediction_algorithms.matrix_factorization.NMF at 0x7f94e0498130>"
      ]
     },
     "execution_count": 12,
     "metadata": {},
     "output_type": "execute_result"
    }
   ],
   "source": [
    "# Non negative matrix factorization\n",
    "trainset = data.build_full_trainset()\n",
    "nmf = NMF()\n",
    "nmf.fit(trainset)"
   ]
  },
  {
   "cell_type": "code",
   "execution_count": 13,
   "metadata": {},
   "outputs": [],
   "source": [
    "del data"
   ]
  },
  {
   "cell_type": "code",
   "execution_count": 14,
   "metadata": {},
   "outputs": [],
   "source": [
    "testset = trainset.build_anti_testset()"
   ]
  },
  {
   "cell_type": "code",
   "execution_count": 15,
   "metadata": {},
   "outputs": [],
   "source": [
    "del trainset"
   ]
  },
  {
   "cell_type": "code",
   "execution_count": 16,
   "metadata": {},
   "outputs": [],
   "source": [
    "pred = nmf.test(testset)"
   ]
  },
  {
   "cell_type": "code",
   "execution_count": 17,
   "metadata": {},
   "outputs": [],
   "source": [
    "from collections import defaultdict\n",
    "\n",
    "def get_top_n(predictions, n=10):\n",
    "    \"\"\"Return the top-N recommendation for each user from a set of predictions.\n",
    "\n",
    "    Args:\n",
    "        predictions(list of Prediction objects): The list of predictions, as\n",
    "            returned by the test method of an algorithm.\n",
    "        n(int): The number of recommendation to output for each user. Default\n",
    "            is 10.\n",
    "\n",
    "    Returns:\n",
    "    A dict where keys are user (raw) ids and values are lists of tuples:\n",
    "        [(raw item id, rating estimation), ...] of size n.\n",
    "    \"\"\"\n",
    "\n",
    "    # First map the predictions to each user.\n",
    "    top_n = defaultdict(list)\n",
    "    for uid, iid, true_r, est, _ in predictions:\n",
    "        top_n[uid].append((iid, est))\n",
    "\n",
    "    # Then sort the predictions for each user and retrieve the k highest ones.\n",
    "    for uid, user_ratings in top_n.items():\n",
    "        user_ratings.sort(key=lambda x: x[1], reverse=True)\n",
    "        top_n[uid] = user_ratings[:n]\n",
    "\n",
    "    return top_n"
   ]
  },
  {
   "attachments": {},
   "cell_type": "markdown",
   "metadata": {},
   "source": [
    "#### Prediction result"
   ]
  },
  {
   "cell_type": "code",
   "execution_count": 18,
   "metadata": {},
   "outputs": [],
   "source": [
    "top_n = get_top_n(pred, n=10)"
   ]
  },
  {
   "cell_type": "code",
   "execution_count": 19,
   "metadata": {},
   "outputs": [],
   "source": [
    "del pred"
   ]
  },
  {
   "cell_type": "code",
   "execution_count": 20,
   "metadata": {},
   "outputs": [
    {
     "data": {
      "text/plain": [
       "[('Hunter x Hunter OVA', 9.009031391122406),\n",
       " ('ef: A Tale of Melodies.', 8.804478493850281),\n",
       " ('Kara no Kyoukai 7: Satsujin Kousatsu (Kou)', 8.455577301611182),\n",
       " ('RD Sennou Chousashitsu', 8.262711284310521),\n",
       " ('Kuroshitsuji Picture Drama', 8.042635712454237),\n",
       " ('Kuroko no Basket: Tip Off', 7.948158120115213),\n",
       " ('Serial Experiments Lain', 7.931442639297254),\n",
       " ('Initial D First Stage', 7.8876203748266915),\n",
       " ('Higurashi no Naku Koro ni', 7.866073612615435),\n",
       " ('Rurouni Kenshin: Meiji Kenkaku Romantan - Ishinshishi e no Chinkonka',\n",
       "  7.857234296938298)]"
      ]
     },
     "execution_count": 20,
     "metadata": {},
     "output_type": "execute_result"
    }
   ],
   "source": [
    "top_n[73517]"
   ]
  },
  {
   "cell_type": "code",
   "execution_count": 21,
   "metadata": {},
   "outputs": [],
   "source": [
    "# test_df = [\n",
    "#     [test_id, \"Angel Beats!\", 10],\n",
    "#     [test_id, \"Ookami to Koushinryou\", 10],\n",
    "#     [test_id, \"Shinsekai yori\", 8],\n",
    "#     [test_id, \"Seikimatsu Occult Gakuin\", 6],\n",
    "#     [test_id, \"Futari wa Precure\", 8],\n",
    "#     [test_id, \"Shugo Chara!\", 8],\n",
    "#     [test_id, \"Uchuu Senkan Yamato 2199\", 9],\n",
    "# ]"
   ]
  }
 ],
 "metadata": {
  "kernelspec": {
   "display_name": ".venv",
   "language": "python",
   "name": "python3"
  },
  "language_info": {
   "codemirror_mode": {
    "name": "ipython",
    "version": 3
   },
   "file_extension": ".py",
   "mimetype": "text/x-python",
   "name": "python",
   "nbconvert_exporter": "python",
   "pygments_lexer": "ipython3",
   "version": "3.8.15"
  },
  "orig_nbformat": 4,
  "vscode": {
   "interpreter": {
    "hash": "c7d37432957a4a72936bc8bbaaa683a4cbe5f1c5a2b967b084a21d45b3c6ffa6"
   }
  }
 },
 "nbformat": 4,
 "nbformat_minor": 2
}

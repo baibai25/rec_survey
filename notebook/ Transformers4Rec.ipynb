{
 "cells": [
  {
   "cell_type": "code",
   "execution_count": null,
   "metadata": {},
   "outputs": [],
   "source": [
    "# https://github.com/NVIDIA-Merlin/Transformers4Rec\n",
    "# セッション系　timestampある系のデータセットに強そう"
   ]
  },
  {
   "cell_type": "code",
   "execution_count": null,
   "metadata": {},
   "outputs": [],
   "source": []
  }
 ],
 "metadata": {
  "kernelspec": {
   "display_name": ".venv",
   "language": "python",
   "name": "python3"
  },
  "language_info": {
   "codemirror_mode": {
    "name": "ipython",
    "version": 3
   },
   "file_extension": ".py",
   "mimetype": "text/x-python",
   "name": "python",
   "nbconvert_exporter": "python",
   "pygments_lexer": "ipython3",
   "version": "3.8.15"
  },
  "orig_nbformat": 4,
  "vscode": {
   "interpreter": {
    "hash": "c7d37432957a4a72936bc8bbaaa683a4cbe5f1c5a2b967b084a21d45b3c6ffa6"
   }
  }
 },
 "nbformat": 4,
 "nbformat_minor": 2
}

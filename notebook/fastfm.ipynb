{
 "cells": [
  {
   "cell_type": "code",
   "execution_count": null,
   "metadata": {},
   "outputs": [],
   "source": [
    "# require python 3.6.x ... mendokusai"
   ]
  }
 ],
 "metadata": {
  "kernelspec": {
   "display_name": ".venv",
   "language": "python",
   "name": "python3"
  },
  "language_info": {
   "name": "python",
   "version": "3.8.15"
  },
  "orig_nbformat": 4,
  "vscode": {
   "interpreter": {
    "hash": "c7d37432957a4a72936bc8bbaaa683a4cbe5f1c5a2b967b084a21d45b3c6ffa6"
   }
  }
 },
 "nbformat": 4,
 "nbformat_minor": 2
}
